{
  "nbformat": 4,
  "nbformat_minor": 0,
  "metadata": {
    "colab": {
      "provenance": []
    },
    "kernelspec": {
      "name": "python3",
      "display_name": "Python 3"
    },
    "language_info": {
      "name": "python"
    }
  },
  "cells": [
    {
      "cell_type": "code",
      "source": [
        "file_url = 'http://cdn.cs50.net/ai/2020/spring/lectures/0/src0.zip'\n",
        "drive_destination = '/content/gdrive/MyDrive/temp'\n",
        "destination = '/content'"
      ],
      "metadata": {
        "id": "NF7h-RGRbz6L"
      },
      "execution_count": null,
      "outputs": []
    },
    {
      "cell_type": "code",
      "source": [
        "# Mount Google Drive\n",
        "from google.colab import drive\n",
        "drive.mount('/content/gdrive')"
      ],
      "metadata": {
        "id": "MAY0G5DnbJ51"
      },
      "execution_count": null,
      "outputs": []
    },
    {
      "cell_type": "code",
      "source": [
        "!pip install tqdm"
      ],
      "metadata": {
        "id": "393NtQfIe08m"
      },
      "execution_count": null,
      "outputs": []
    },
    {
      "cell_type": "code",
      "source": [
        "import requests\n",
        "import os\n",
        "from tqdm import tqdm\n",
        "\n",
        "# Function to download a file from a URL\n",
        "def download_file_with_progress(url, destination_folder=\".\"):\n",
        "    try:\n",
        "        response = requests.get(url, stream=True)\n",
        "        file_size = int(response.headers.get(\"content-length\", 0))\n",
        "\n",
        "        # Construct the full path to save the downloaded file\n",
        "        file_name = os.path.join(destination_folder, os.path.basename(url))\n",
        "\n",
        "        # Open the file in binary write mode and create a tqdm progress bar\n",
        "        with open(file_name, \"wb\") as file, tqdm(\n",
        "            desc=os.path.basename(file_name),  # Set the description for the progress bar\n",
        "            total=file_size,\n",
        "            unit_scale=True\n",
        "        ) as bar:\n",
        "            # Iterate through the response content in chunks and update the progress bar\n",
        "            for data in response.iter_content(chunk_size=8192):\n",
        "                # Update the progress bar with the chunk size\n",
        "                bar.update(len(data))\n",
        "                file.write(data)\n",
        "        print(f\"File '{os.path.basename(file_name)}' downloaded successfully! 🎉\")\n",
        "        # Return the path to the downloaded file\n",
        "        return file_name\n",
        "\n",
        "    except Exception as e:\n",
        "        print(f\"An error occurred: {e} 😞\")\n",
        "        # Return None in case of an error\n",
        "        return None\n",
        "\n",
        "# Function to copy a file to another location within Google Drive\n",
        "def upload_to_gdrive_with_progress(file_path, drive_destination_folder):\n",
        "    try:\n",
        "        # Construct the full path for the destination file in Google Drive\n",
        "        drive_file_path = os.path.join(drive_destination_folder, os.path.basename(file_path))\n",
        "\n",
        "        # Open the source file in binary read mode and create a tqdm progress bar\n",
        "        with open(file_path, \"rb\") as file, tqdm(\n",
        "            desc=os.path.basename(drive_file_path),  # Set the description for the progress bar\n",
        "            total=os.path.getsize(file_path),\n",
        "            unit_scale=True\n",
        "        ) as bar:\n",
        "            # Open the destination file in binary write mode and update the progress bar\n",
        "            with open(drive_file_path, \"wb\") as drive_file:\n",
        "                drive_file.write(file.read())\n",
        "\n",
        "            # Update the progress bar with the file size\n",
        "            bar.update(os.path.getsize(file_path))\n",
        "        print(f\"\\nFile '{os.path.basename(drive_file_path)}' copied to Google Drive at: '{drive_file_path}' 🚀\")\n",
        "\n",
        "    except Exception as e:\n",
        "        print(f\"\\nAn error occurred while copying to Google Drive: {e} 😞\")"
      ],
      "metadata": {
        "id": "el6eeLGUqbZu"
      },
      "execution_count": null,
      "outputs": []
    },
    {
      "cell_type": "code",
      "source": [
        "file = download_file_with_progress(file_url, destination)\n",
        "\n",
        "# Upload file to Google Drive with progress bar\n",
        "if file:\n",
        "    upload_to_gdrive_with_progress(file, drive_destination)"
      ],
      "metadata": {
        "id": "VDCbIw7idSpA"
      },
      "execution_count": null,
      "outputs": []
    }
  ]
}